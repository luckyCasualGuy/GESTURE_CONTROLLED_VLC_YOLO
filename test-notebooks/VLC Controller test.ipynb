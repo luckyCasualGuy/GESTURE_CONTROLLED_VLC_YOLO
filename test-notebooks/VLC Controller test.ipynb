{
 "cells": [
  {
   "cell_type": "code",
   "execution_count": 18,
   "metadata": {},
   "outputs": [],
   "source": [
    "from vlc import MediaListPlayer, Instance\n",
    "from pathlib import Path"
   ]
  },
  {
   "cell_type": "code",
   "execution_count": 25,
   "metadata": {},
   "outputs": [
    {
     "name": "stdout",
     "output_type": "stream",
     "text": [
      "\n",
      "Path Checks:\n",
      "status PLAYLIST_PATH: True\n",
      "status SINGLE_MEDIA: True\n",
      "\n"
     ]
    }
   ],
   "source": [
    "PLAYLIST_PATH = \"../playlist\"\n",
    "SINGLE_MEDIA = '../playlist/Jim Guthrie - Sword & Sworcery LP - The Ballad of the Space Babies - 01 Dark Flute.mp3'\n",
    "\n",
    "print(f\"\"\"\n",
    "Path Checks:\n",
    "status PLAYLIST_PATH: {Path(PLAYLIST_PATH).exists()}\n",
    "status SINGLE_MEDIA: {Path(SINGLE_MEDIA).exists()}\n",
    "\"\"\")"
   ]
  },
  {
   "cell_type": "code",
   "execution_count": 17,
   "metadata": {},
   "outputs": [],
   "source": [
    "media_player = MediaListPlayer() "
   ]
  },
  {
   "cell_type": "code",
   "execution_count": 26,
   "metadata": {},
   "outputs": [
    {
     "data": {
      "text/plain": [
       "0"
      ]
     },
     "execution_count": 26,
     "metadata": {},
     "output_type": "execute_result"
    }
   ],
   "source": [
    "player = Instance()\n",
    "\n",
    "# THIS IS SUPPOSED TO BE IN FOR LOOP !!!\n",
    "\n",
    "# creating a new media list \n",
    "media_list = player.media_list_new() \n",
    "\n",
    "# creating a new media \n",
    "media = player.media_new(SINGLE_MEDIA)\n",
    "\n",
    "media_list.add_media(media)"
   ]
  },
  {
   "cell_type": "code",
   "execution_count": 27,
   "metadata": {},
   "outputs": [],
   "source": [
    "media_player.set_media_list(media_list) "
   ]
  },
  {
   "cell_type": "code",
   "execution_count": 57,
   "metadata": {},
   "outputs": [],
   "source": [
    "media_player.play()"
   ]
  },
  {
   "cell_type": "code",
   "execution_count": 58,
   "metadata": {},
   "outputs": [],
   "source": [
    "media_player.stop()"
   ]
  },
  {
   "cell_type": "code",
   "execution_count": 55,
   "metadata": {},
   "outputs": [
    {
     "data": {
      "text/plain": [
       "0"
      ]
     },
     "execution_count": 55,
     "metadata": {},
     "output_type": "execute_result"
    }
   ],
   "source": [
    "media_player.next()"
   ]
  },
  {
   "cell_type": "code",
   "execution_count": 59,
   "metadata": {},
   "outputs": [],
   "source": [
    "media_player.pause()"
   ]
  },
  {
   "cell_type": "code",
   "execution_count": 31,
   "metadata": {},
   "outputs": [],
   "source": [
    "# THIS IS HOW YOU RESET\n",
    "\n",
    "new = player.media_player_new()\n",
    "media_player.set_media_player(new)"
   ]
  },
  {
   "cell_type": "code",
   "execution_count": 49,
   "metadata": {},
   "outputs": [],
   "source": [
    "# loading playlist\n",
    "playlist = Path(PLAYLIST_PATH)\n",
    "\n",
    "player = Instance()\n",
    "media_list = player.media_list_new()\n",
    "\n",
    "for path in playlist.glob('*.mp3'):\n",
    "    media = player.media_new(path)\n",
    "    media_list.add_media(media)\n",
    "    \n",
    "media_player.set_media_list(media_list)"
   ]
  },
  {
   "cell_type": "code",
   "execution_count": 60,
   "metadata": {},
   "outputs": [],
   "source": [
    "# CONFIG WILL LOOK LOKE THIS\n",
    "\n",
    "conf = {\n",
    "    \"play\": [1],\n",
    "    \"pause\": [0],\n",
    "    \"next\": [1, 1],\n",
    "    \"previous\": [0, 0],\n",
    "    \"stop\": [1, 0]\n",
    "}"
   ]
  },
  {
   "cell_type": "code",
   "execution_count": 61,
   "metadata": {},
   "outputs": [],
   "source": [
    "from vlc import Instance, MediaListPlayer\n",
    "from pathlib import Path\n",
    "\n",
    "class VLCController():\n",
    "\n",
    "    def __init__(self, number_conf: dict):\n",
    "        self.conf = number_conf\n",
    "        self.media_player = MediaListPlayer()\n",
    "\n",
    "    def setPlaylist(self, PATH_TO_PLAYLIST: str):\n",
    "        playlist = Path(PATH_TO_PLAYLIST)\n",
    "        if not playlist.exists(): raise ValueError('Playlist does not exist')\n",
    "\n",
    "        player = Instance()\n",
    "        media_list = player.media_list_new()\n",
    "\n",
    "        for path in playlist.glob('*.mp3'):\n",
    "            media = player.media_new(path)\n",
    "            media_list.add_media(media)\n",
    "            \n",
    "        self.media_player.set_media_list(media_list)\n",
    "\n",
    "\n",
    "    def configMapper(self, signal):\n",
    "        if signal:\n",
    "            if signal == self.conf['play']: self.media_player.play()\n",
    "            if signal == self.conf['pause']: self.media_player.pause()\n",
    "            if signal == self.conf['stop']: self.media_player.stop()\n",
    "            if signal == self.conf['next']: self.media_player.next()\n",
    "            if signal == self.conf['previous']: self.media_player.previous()"
   ]
  },
  {
   "cell_type": "code",
   "execution_count": 62,
   "metadata": {},
   "outputs": [],
   "source": [
    "controller = VLCController(conf)\n",
    "controller.setPlaylist(PLAYLIST_PATH)"
   ]
  },
  {
   "cell_type": "code",
   "execution_count": 71,
   "metadata": {},
   "outputs": [],
   "source": [
    "controller.configMapper([1, 0])"
   ]
  },
  {
   "cell_type": "code",
   "execution_count": null,
   "metadata": {},
   "outputs": [],
   "source": []
  }
 ],
 "metadata": {
  "kernelspec": {
   "display_name": "Python 3",
   "language": "python",
   "name": "python3"
  },
  "language_info": {
   "codemirror_mode": {
    "name": "ipython",
    "version": 3
   },
   "file_extension": ".py",
   "mimetype": "text/x-python",
   "name": "python",
   "nbconvert_exporter": "python",
   "pygments_lexer": "ipython3",
   "version": "3.8.3"
  }
 },
 "nbformat": 4,
 "nbformat_minor": 4
}
